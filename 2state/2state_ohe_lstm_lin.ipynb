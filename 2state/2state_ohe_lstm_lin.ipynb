{
  "cells": [
    {
      "cell_type": "code",
      "execution_count": 1,
      "id": "8b1192d4",
      "metadata": {
        "colab": {
          "base_uri": "https://localhost:8080/"
        },
        "id": "8b1192d4",
        "outputId": "ae5defd8-f52c-406a-ef9e-8a5a11079b05"
      },
      "outputs": [
        {
          "name": "stdout",
          "output_type": "stream",
          "text": [
            "Requirement already satisfied: pandas in /usr/local/lib/python3.11/dist-packages (2.2.2)\n",
            "Requirement already satisfied: numpy>=1.23.2 in /usr/local/lib/python3.11/dist-packages (from pandas) (2.0.2)\n",
            "Requirement already satisfied: python-dateutil>=2.8.2 in /usr/local/lib/python3.11/dist-packages (from pandas) (2.9.0.post0)\n",
            "Requirement already satisfied: pytz>=2020.1 in /usr/local/lib/python3.11/dist-packages (from pandas) (2025.2)\n",
            "Requirement already satisfied: tzdata>=2022.7 in /usr/local/lib/python3.11/dist-packages (from pandas) (2025.2)\n",
            "Requirement already satisfied: six>=1.5 in /usr/local/lib/python3.11/dist-packages (from python-dateutil>=2.8.2->pandas) (1.17.0)\n",
            "Requirement already satisfied: numpy in /usr/local/lib/python3.11/dist-packages (2.0.2)\n",
            "Requirement already satisfied: torch in /usr/local/lib/python3.11/dist-packages (2.6.0+cu124)\n",
            "Requirement already satisfied: filelock in /usr/local/lib/python3.11/dist-packages (from torch) (3.18.0)\n",
            "Requirement already satisfied: typing-extensions>=4.10.0 in /usr/local/lib/python3.11/dist-packages (from torch) (4.14.0)\n",
            "Requirement already satisfied: networkx in /usr/local/lib/python3.11/dist-packages (from torch) (3.5)\n",
            "Requirement already satisfied: jinja2 in /usr/local/lib/python3.11/dist-packages (from torch) (3.1.6)\n",
            "Requirement already satisfied: fsspec in /usr/local/lib/python3.11/dist-packages (from torch) (2025.3.2)\n",
            "Requirement already satisfied: nvidia-cuda-nvrtc-cu12==12.4.127 in /usr/local/lib/python3.11/dist-packages (from torch) (12.4.127)\n",
            "Requirement already satisfied: nvidia-cuda-runtime-cu12==12.4.127 in /usr/local/lib/python3.11/dist-packages (from torch) (12.4.127)\n",
            "Requirement already satisfied: nvidia-cuda-cupti-cu12==12.4.127 in /usr/local/lib/python3.11/dist-packages (from torch) (12.4.127)\n",
            "Requirement already satisfied: nvidia-cudnn-cu12==9.1.0.70 in /usr/local/lib/python3.11/dist-packages (from torch) (9.1.0.70)\n",
            "Requirement already satisfied: nvidia-cublas-cu12==12.4.5.8 in /usr/local/lib/python3.11/dist-packages (from torch) (12.4.5.8)\n",
            "Requirement already satisfied: nvidia-cufft-cu12==11.2.1.3 in /usr/local/lib/python3.11/dist-packages (from torch) (11.2.1.3)\n",
            "Requirement already satisfied: nvidia-curand-cu12==10.3.5.147 in /usr/local/lib/python3.11/dist-packages (from torch) (10.3.5.147)\n",
            "Requirement already satisfied: nvidia-cusolver-cu12==11.6.1.9 in /usr/local/lib/python3.11/dist-packages (from torch) (11.6.1.9)\n",
            "Requirement already satisfied: nvidia-cusparse-cu12==12.3.1.170 in /usr/local/lib/python3.11/dist-packages (from torch) (12.3.1.170)\n",
            "Requirement already satisfied: nvidia-cusparselt-cu12==0.6.2 in /usr/local/lib/python3.11/dist-packages (from torch) (0.6.2)\n",
            "Requirement already satisfied: nvidia-nccl-cu12==2.21.5 in /usr/local/lib/python3.11/dist-packages (from torch) (2.21.5)\n",
            "Requirement already satisfied: nvidia-nvtx-cu12==12.4.127 in /usr/local/lib/python3.11/dist-packages (from torch) (12.4.127)\n",
            "Requirement already satisfied: nvidia-nvjitlink-cu12==12.4.127 in /usr/local/lib/python3.11/dist-packages (from torch) (12.4.127)\n",
            "Requirement already satisfied: triton==3.2.0 in /usr/local/lib/python3.11/dist-packages (from torch) (3.2.0)\n",
            "Requirement already satisfied: sympy==1.13.1 in /usr/local/lib/python3.11/dist-packages (from torch) (1.13.1)\n",
            "Requirement already satisfied: mpmath<1.4,>=1.1.0 in /usr/local/lib/python3.11/dist-packages (from sympy==1.13.1->torch) (1.3.0)\n",
            "Requirement already satisfied: MarkupSafe>=2.0 in /usr/local/lib/python3.11/dist-packages (from jinja2->torch) (3.0.2)\n",
            "Requirement already satisfied: scikit-learn in /usr/local/lib/python3.11/dist-packages (1.6.1)\n",
            "Requirement already satisfied: numpy>=1.19.5 in /usr/local/lib/python3.11/dist-packages (from scikit-learn) (2.0.2)\n",
            "Requirement already satisfied: scipy>=1.6.0 in /usr/local/lib/python3.11/dist-packages (from scikit-learn) (1.15.3)\n",
            "Requirement already satisfied: joblib>=1.2.0 in /usr/local/lib/python3.11/dist-packages (from scikit-learn) (1.5.1)\n",
            "Requirement already satisfied: threadpoolctl>=3.1.0 in /usr/local/lib/python3.11/dist-packages (from scikit-learn) (3.6.0)\n",
            "Requirement already satisfied: matplotlib in /usr/local/lib/python3.11/dist-packages (3.10.0)\n",
            "Requirement already satisfied: contourpy>=1.0.1 in /usr/local/lib/python3.11/dist-packages (from matplotlib) (1.3.2)\n",
            "Requirement already satisfied: cycler>=0.10 in /usr/local/lib/python3.11/dist-packages (from matplotlib) (0.12.1)\n",
            "Requirement already satisfied: fonttools>=4.22.0 in /usr/local/lib/python3.11/dist-packages (from matplotlib) (4.58.4)\n",
            "Requirement already satisfied: kiwisolver>=1.3.1 in /usr/local/lib/python3.11/dist-packages (from matplotlib) (1.4.8)\n",
            "Requirement already satisfied: numpy>=1.23 in /usr/local/lib/python3.11/dist-packages (from matplotlib) (2.0.2)\n",
            "Requirement already satisfied: packaging>=20.0 in /usr/local/lib/python3.11/dist-packages (from matplotlib) (24.2)\n",
            "Requirement already satisfied: pillow>=8 in /usr/local/lib/python3.11/dist-packages (from matplotlib) (11.2.1)\n",
            "Requirement already satisfied: pyparsing>=2.3.1 in /usr/local/lib/python3.11/dist-packages (from matplotlib) (3.2.3)\n",
            "Requirement already satisfied: python-dateutil>=2.7 in /usr/local/lib/python3.11/dist-packages (from matplotlib) (2.9.0.post0)\n",
            "Requirement already satisfied: six>=1.5 in /usr/local/lib/python3.11/dist-packages (from python-dateutil>=2.7->matplotlib) (1.17.0)\n",
            "Requirement already satisfied: tqdm in /usr/local/lib/python3.11/dist-packages (4.67.1)\n",
            "Requirement already satisfied: google in /usr/local/lib/python3.11/dist-packages (2.0.3)\n",
            "Requirement already satisfied: beautifulsoup4 in /usr/local/lib/python3.11/dist-packages (from google) (4.13.4)\n",
            "Requirement already satisfied: soupsieve>1.2 in /usr/local/lib/python3.11/dist-packages (from beautifulsoup4->google) (2.7)\n",
            "Requirement already satisfied: typing-extensions>=4.0.0 in /usr/local/lib/python3.11/dist-packages (from beautifulsoup4->google) (4.14.0)\n",
            "Using device: cuda\n"
          ]
        }
      ],
      "source": [
        "%pip install pandas\n",
        "%pip install numpy\n",
        "%pip install torch\n",
        "%pip install scikit-learn\n",
        "%pip install matplotlib\n",
        "%pip install tqdm\n",
        "%pip install google\n",
        "import numpy as np\n",
        "import pandas as pd\n",
        "import torch\n",
        "import torch.nn as nn\n",
        "import torch.nn.functional as F\n",
        "from torch.utils.data import Dataset, DataLoader\n",
        "from sklearn.model_selection import train_test_split\n",
        "from sklearn.metrics import classification_report, f1_score, matthews_corrcoef, accuracy_score\n",
        "from sklearn.utils import resample\n",
        "import matplotlib.pyplot as plt\n",
        "from tqdm import tqdm\n",
        "\n",
        "DEVICE = \"mps\" if torch.backends.mps.is_available() else \"cuda\" if torch.cuda.is_available() else \"cpu\"\n",
        "print(f\"Using device: {DEVICE}\")\n",
        "\n",
        "# Hyperparameters\n",
        "NUM_CLASSES = 2  # Binary classification (0: no signal peptide, 1: signal peptide)\n",
        "BATCH_SIZE = 32\n",
        "EPOCHS = 10\n",
        "LR = 0.001\n",
        "MAX_LENGTH = 100  # maybe adjust\n",
        "WINDOW_SIZE = 35  # sliding window (odd because model predicts center residue)\n",
        "STRIDE = 1  # Step size"
      ]
    },
    {
      "cell_type": "code",
      "execution_count": 2,
      "id": "181f6793",
      "metadata": {
        "colab": {
          "base_uri": "https://localhost:8080/"
        },
        "id": "181f6793",
        "outputId": "c1239fb4-feb6-4800-9ac7-986b401bc1ac"
      },
      "outputs": [
        {
          "name": "stdout",
          "output_type": "stream",
          "text": [
            "Drive already mounted at /content/drive; to attempt to forcibly remount, call drive.mount(\"/content/drive\", force_remount=True).\n"
          ]
        }
      ],
      "source": [
        "from google.colab import drive\n",
        "import os\n",
        "drive.mount('/content/drive')\n",
        "DRIVE_PATH = \"/content/drive/MyDrive/PBLRost/\"\n",
        "FASTA_PATH = os.path.join(DRIVE_PATH, \"data/complete_set_unpartitioned.fasta\")\n",
        "MODEL_PATH = os.path.join(DRIVE_PATH, \"models/2state_ohe_lin_v1.pt\")"
      ]
    },
    {
      "cell_type": "code",
      "execution_count": 3,
      "id": "6ce93383",
      "metadata": {
        "id": "6ce93383"
      },
      "outputs": [],
      "source": [
        "aas = 'ARNDCEQGHILKMFPSTWYV'\n",
        "aa2idx = {aa: i for i, aa in enumerate(aas)}\n",
        "idx2aa = {i: aa for aa, i in aa2idx.items()}\n",
        "num_aa = len(aas)\n",
        "\n",
        "def one_hot_encode_window(seq_window):\n",
        "    \"\"\"One-hot encode a sequence window\"\"\"\n",
        "    encoding = np.zeros((len(seq_window), num_aa))\n",
        "\n",
        "    for i, aa in enumerate(seq_window):\n",
        "        if aa in aa2idx:\n",
        "            encoding[i, aa2idx[aa]] = 1\n",
        "        # Unknown amino acids remain as zero vectors (as is the default)\n",
        "    return encoding"
      ]
    },
    {
      "cell_type": "code",
      "execution_count": 4,
      "id": "63ba15f2",
      "metadata": {
        "id": "63ba15f2"
      },
      "outputs": [],
      "source": [
        "def create_sliding_windows(sequence, labels, window_size, stride=1):\n",
        "    \"\"\"Create sliding windows from sequence and corresponding labels\"\"\"\n",
        "    windows = []\n",
        "    window_labels = []\n",
        "    positions = []\n",
        "\n",
        "    # Pad sequence for edge cases\n",
        "    pad_size = window_size // 2 # so starts classification after padding, at first real encoding\n",
        "    padded_seq = 'X' * pad_size + sequence + 'X' * pad_size\n",
        "    padded_labels = [0] * pad_size + labels + [0] * pad_size\n",
        "\n",
        "    # Create sliding windows\n",
        "    for i in range(0, len(sequence), stride):\n",
        "        start_idx = i\n",
        "        end_idx = i + window_size\n",
        "\n",
        "        if end_idx <= len(padded_seq):\n",
        "            window_seq = padded_seq[start_idx:end_idx]\n",
        "            # Label for the center position of the window\n",
        "            center_idx = start_idx + pad_size # residue to predict\n",
        "            if center_idx < len(padded_labels):\n",
        "                center_label = padded_labels[center_idx]\n",
        "\n",
        "                windows.append(window_seq)\n",
        "                window_labels.append(center_label)\n",
        "                positions.append(i)  # Original position in sequence\n",
        "\n",
        "    return windows, window_labels, positions"
      ]
    },
    {
      "cell_type": "code",
      "execution_count": 5,
      "id": "064304e2",
      "metadata": {
        "id": "064304e2"
      },
      "outputs": [],
      "source": [
        "def load_and_preprocess_data(fasta_path):\n",
        "    \"\"\"Load FASTA data and preprocess for sliding window approach\"\"\"\n",
        "    records = []\n",
        "\n",
        "    with open(fasta_path, \"r\") as f:\n",
        "        current_record = None\n",
        "        for line in f:\n",
        "            if line.startswith(\">\"):\n",
        "                if current_record is not None:\n",
        "                    if current_record[\"sequence\"] is not None and current_record[\"label\"] is not None:\n",
        "                        records.append(current_record)\n",
        "\n",
        "                uniprot_ac, kingdom, type_ = line[1:].strip().split(\"|\")\n",
        "                current_record = {\n",
        "                    \"uniprot_ac\": uniprot_ac,\n",
        "                    \"kingdom\": kingdom,\n",
        "                    \"type\": type_,\n",
        "                    \"sequence\": None,\n",
        "                    \"label\": None\n",
        "                }\n",
        "            else:\n",
        "                if current_record[\"sequence\"] is None:\n",
        "                    current_record[\"sequence\"] = line.strip()\n",
        "                elif current_record[\"label\"] is None:\n",
        "                    current_record[\"label\"] = line.strip()\n",
        "\n",
        "        # Add last record\n",
        "        if current_record is not None:\n",
        "            if current_record[\"sequence\"] is not None and current_record[\"label\"] is not None:\n",
        "                records.append(current_record)\n",
        "\n",
        "    print(f\"Total records loaded: {len(records)}\")\n",
        "\n",
        "    # Convert to DataFrame\n",
        "    df_raw = pd.DataFrame(records)\n",
        "\n",
        "    # Filter out sequences with 'P' in labels (if needed)\n",
        "    df = df_raw[~df_raw[\"label\"].str.contains(\"P\")]\n",
        "\n",
        "    # Map signal peptide types to binary classification\n",
        "    df[\"has_signal_peptide\"] = df[\"type\"].map({\n",
        "        \"NO_SP\": 0,\n",
        "        \"LIPO\": 1,\n",
        "        \"SP\": 1,\n",
        "        \"TAT\": 1,\n",
        "        \"TATLIPO\": 1\n",
        "    })\n",
        "\n",
        "    # Balance the dataset at sequence level first\n",
        "    df_majority = df[df[\"has_signal_peptide\"] == 0]\n",
        "    df_minority = df[df[\"has_signal_peptide\"] == 1]\n",
        "\n",
        "    if not df_minority.empty and not df_majority.empty:\n",
        "\n",
        "        n_samples = min(len(df_majority), 5000) # Limit samples to 5000 to prevent high ram usage\n",
        "        df_majority_sampled = resample(\n",
        "            df_majority,\n",
        "            replace=False, # sample without replacement\n",
        "            n_samples=n_samples,\n",
        "            random_state=42\n",
        "        )\n",
        "        df_balanced = pd.concat([df_majority_sampled, df_minority]) # Include all minority samples\n",
        "    else:\n",
        "        df_balanced = df.copy()\n",
        "\n",
        "\n",
        "    # Convert residue-level labels to binary\n",
        "    label_map = {'S': 1, 'T': 1, 'L': 1, 'I': 0, 'M': 0, 'O': 0}\n",
        "\n",
        "    # Create sliding windows for all sequences\n",
        "    all_windows = []\n",
        "    all_labels = []\n",
        "    all_seq_ids = []\n",
        "\n",
        "    for idx, row in df_balanced.iterrows():\n",
        "        sequence = row[\"sequence\"]\n",
        "        label_string = row[\"label\"]\n",
        "\n",
        "        # Convert label string to binary array\n",
        "        residue_labels = [label_map.get(c, 0) for c in label_string]\n",
        "\n",
        "        # Skip sequences where label length doesn't match sequence length\n",
        "        if len(residue_labels) != len(sequence):\n",
        "            print(\"A sequence length is not equal to the label length\")\n",
        "            continue\n",
        "\n",
        "        # Create sliding windows for this sequence\n",
        "        windows, window_labels, positions = create_sliding_windows(\n",
        "            sequence, residue_labels, WINDOW_SIZE, STRIDE\n",
        "        )\n",
        "\n",
        "        all_windows.extend(windows)\n",
        "        all_labels.extend(window_labels)\n",
        "        all_seq_ids.extend([idx] * len(windows))\n",
        "\n",
        "    print(f\"Total windows created: {len(all_windows)}\")\n",
        "    print(f\"Signal peptide windows: {sum(all_labels)}\")\n",
        "    print(f\"Non-signal peptide windows: {len(all_labels) - sum(all_labels)}\")\n",
        "\n",
        "    return all_windows, all_labels, all_seq_ids"
      ]
    },
    {
      "cell_type": "code",
      "execution_count": 6,
      "id": "408cc6b7",
      "metadata": {
        "id": "408cc6b7"
      },
      "outputs": [],
      "source": [
        "class SlidingWindowDataset(Dataset):\n",
        "    def __init__(self, windows, labels, window_size):\n",
        "        self.windows = windows\n",
        "        self.labels = labels\n",
        "        self.window_size = window_size\n",
        "\n",
        "        # Pre-encode all windows\n",
        "        self.encoded_windows = []\n",
        "        for window in windows:\n",
        "            encoded = one_hot_encode_window(window)\n",
        "            self.encoded_windows.append(encoded)\n",
        "\n",
        "    def __len__(self):\n",
        "        return len(self.windows)\n",
        "\n",
        "    def __getitem__(self, idx):\n",
        "        return {\n",
        "            'window': torch.tensor(self.encoded_windows[idx], dtype=torch.float32),\n",
        "            'label': torch.tensor(self.labels[idx], dtype=torch.long)\n",
        "        }"
      ]
    },
    {
      "cell_type": "code",
      "execution_count": null,
      "id": "c777e161",
      "metadata": {
        "id": "c777e161"
      },
      "outputs": [],
      "source": [
        "class SlidingWindowSignalPeptideClassifier(nn.Module):\n",
        "    def __init__(self, window_size, num_aa, hidden_dim=128, num_layers=2, use_cnn=True, use_lstm=False, lstm_hidden_dim=64, lstm_layers=1):\n",
        "        super().__init__()\n",
        "        self.window_size = window_size\n",
        "        self.num_aa = num_aa\n",
        "        self.use_cnn = use_cnn\n",
        "        self.use_lstm = use_lstm\n",
        "\n",
        "        if use_cnn:\n",
        "            # CNN approach - better for local patterns\n",
        "            self.conv_layers = nn.Sequential(\n",
        "                nn.Conv1d(num_aa, 64, kernel_size=3, padding=1),\n",
        "                nn.ReLU(),\n",
        "                nn.Dropout(0.2),\n",
        "                nn.Conv1d(64, 32, kernel_size=3, padding=1),\n",
        "                nn.ReLU(),\n",
        "                nn.Dropout(0.2),\n",
        "                nn.AdaptiveAvgPool1d(1)  # Global average pooling\n",
        "            )\n",
        "            fc_input_dim = 32\n",
        "        elif use_lstm:\n",
        "            # LSTM approach - for sequential dependencies\n",
        "            self.lstm = nn.LSTM(\n",
        "                input_size=num_aa,\n",
        "                hidden_size=lstm_hidden_dim,\n",
        "                num_layers=lstm_layers,\n",
        "                batch_first=True,\n",
        "                bidirectional=True\n",
        "            )\n",
        "            fc_input_dim = lstm_hidden_dim * 2  # bidirectional\n",
        "        else:\n",
        "            # MLP approach - flatten the window\n",
        "            fc_input_dim = window_size * num_aa\n",
        "\n",
        "        # Final classification layers\n",
        "        layers = []\n",
        "        in_dim = fc_input_dim\n",
        "\n",
        "        for _ in range(num_layers):\n",
        "            layers.extend([\n",
        "                nn.Linear(in_dim, hidden_dim),\n",
        "                nn.ReLU(),\n",
        "                nn.Dropout(0.3)\n",
        "            ])\n",
        "            in_dim = hidden_dim\n",
        "\n",
        "        # Binary classification output\n",
        "        layers.append(nn.Linear(hidden_dim, 1))\n",
        "\n",
        "        self.classifier = nn.Sequential(*layers)\n",
        "\n",
        "    def forward(self, x):\n",
        "        # x: [batch_size, window_size, num_aa]\n",
        "        batch_size = x.size(0)\n",
        "\n",
        "        if self.use_cnn:\n",
        "            # Transpose for Conv1d: [batch_size, num_aa, window_size]\n",
        "            x = x.transpose(1, 2)\n",
        "            x = self.conv_layers(x)\n",
        "            x = x.view(batch_size, -1)  # Flatten\n",
        "        elif self.use_lstm:\n",
        "            # LSTM expects [batch_size, seq_len, input_size]\n",
        "            lstm_out, _ = self.lstm(x)\n",
        "            # Use the last output from both directions\n",
        "            x = torch.cat([lstm_out[:, -1, :self.lstm.hidden_size], lstm_out[:, 0, self.lstm.hidden_size:]], dim=1)\n",
        "        else:\n",
        "            # Flatten for MLP\n",
        "            x = x.view(batch_size, -1)\n",
        "\n",
        "        logits = self.classifier(x)\n",
        "        return logits.squeeze(-1)  # Remove last dimension for binary classification"
      ]
    },
    {
      "cell_type": "code",
      "execution_count": 8,
      "id": "76c2361d",
      "metadata": {
        "id": "76c2361d"
      },
      "outputs": [],
      "source": [
        "def train_model(model, train_loader, val_loader, num_epochs, device):\n",
        "    \"\"\"Train the sliding window model\"\"\"\n",
        "    optimizer = torch.optim.Adam(model.parameters(), lr=LR, weight_decay=1e-5)\n",
        "    criterion = nn.BCEWithLogitsLoss()\n",
        "    scheduler = torch.optim.lr_scheduler.ReduceLROnPlateau(optimizer, patience=3, factor=0.5)\n",
        "\n",
        "    train_losses = []\n",
        "    val_losses = []\n",
        "    best_val_loss = float('inf')\n",
        "\n",
        "    for epoch in range(num_epochs):\n",
        "        # Training\n",
        "        model.train()\n",
        "        train_loss = 0\n",
        "        train_batches = 0\n",
        "\n",
        "        progress_bar = tqdm(train_loader, desc=f\"Epoch {epoch+1}/{num_epochs}\")\n",
        "        for batch in progress_bar:\n",
        "            windows = batch['window'].to(device)\n",
        "            labels = batch['label'].to(device).float()\n",
        "\n",
        "            optimizer.zero_grad()\n",
        "\n",
        "            logits = model(windows)\n",
        "            loss = criterion(logits, labels)\n",
        "\n",
        "            loss.backward()\n",
        "            optimizer.step()\n",
        "\n",
        "            train_loss += loss.item()\n",
        "            train_batches += 1\n",
        "\n",
        "            # Update progress bar\n",
        "            progress_bar.set_postfix({'loss': f'{loss.item():.4f}'})\n",
        "\n",
        "        avg_train_loss = train_loss / train_batches\n",
        "        train_losses.append(avg_train_loss)\n",
        "\n",
        "        # Validation\n",
        "        model.eval()\n",
        "        val_loss = 0\n",
        "        val_batches = 0\n",
        "        val_correct = 0\n",
        "        val_total = 0\n",
        "\n",
        "        with torch.no_grad():\n",
        "            for batch in val_loader:\n",
        "                windows = batch['window'].to(device)\n",
        "                labels = batch['label'].to(device).float()\n",
        "\n",
        "                logits = model(windows)\n",
        "                loss = criterion(logits, labels)\n",
        "\n",
        "                val_loss += loss.item()\n",
        "                val_batches += 1\n",
        "\n",
        "                # Calculate accuracy\n",
        "                predictions = (torch.sigmoid(logits) > 0.5).float()\n",
        "                val_correct += (predictions == labels).sum().item()\n",
        "                val_total += labels.size(0)\n",
        "\n",
        "        avg_val_loss = val_loss / val_batches\n",
        "        val_accuracy = val_correct / val_total\n",
        "        val_losses.append(avg_val_loss)\n",
        "\n",
        "        # Learning rate scheduling\n",
        "        scheduler.step(avg_val_loss)\n",
        "\n",
        "        print(f\"Epoch {epoch+1}/{num_epochs} - Train Loss: {avg_train_loss:.4f}, \"\n",
        "              f\"Val Loss: {avg_val_loss:.4f}, Val Acc: {val_accuracy:.4f}\")\n",
        "\n",
        "        # Save best model\n",
        "        if avg_val_loss < best_val_loss:\n",
        "            best_val_loss = avg_val_loss\n",
        "            torch.save(model.state_dict(), MODEL_PATH)\n",
        "\n",
        "    return train_losses, val_losses"
      ]
    },
    {
      "cell_type": "code",
      "execution_count": 9,
      "id": "6713138b",
      "metadata": {
        "id": "6713138b"
      },
      "outputs": [],
      "source": [
        "# compute percentage of false predicted labels\n",
        "def sequence_level_accuracy(predictions, labels):\n",
        "    correct = 0\n",
        "    total = 0\n",
        "    for pred, label in zip(predictions, labels):\n",
        "        if len(pred) != len(label):\n",
        "            min_len = min(len(pred), len(label))\n",
        "            pred = pred[:min_len]\n",
        "            label = label[:min_len]\n",
        "        total += 1\n",
        "        if (pred == label).all():\n",
        "            correct += 1\n",
        "    return correct / total"
      ]
    },
    {
      "cell_type": "code",
      "execution_count": 10,
      "id": "0cfdfb0f",
      "metadata": {
        "id": "0cfdfb0f"
      },
      "outputs": [],
      "source": [
        "def evaluate_model(model, test_loader, device):\n",
        "    \"\"\"Evaluate the sliding window model\"\"\"\n",
        "    model.eval()\n",
        "    all_preds = []\n",
        "    all_labels = []\n",
        "    all_probs = []\n",
        "\n",
        "    with torch.no_grad():\n",
        "        for batch in tqdm(test_loader, desc=\"Evaluating\"):\n",
        "            windows = batch['window'].to(device)\n",
        "            labels = batch['label'].to(device)\n",
        "\n",
        "            logits = model(windows)\n",
        "            probabilities = torch.sigmoid(logits)\n",
        "            predictions = (probabilities > 0.5).long()\n",
        "\n",
        "            all_preds.extend(predictions.cpu().numpy())\n",
        "            all_labels.extend(labels.cpu().numpy())\n",
        "            all_probs.extend(probabilities.cpu().numpy())\n",
        "\n",
        "    # Calculate metrics\n",
        "    print(\"Classification Report:\")\n",
        "    print(classification_report(all_labels, all_preds, target_names=['No Signal', 'Signal']))\n",
        "\n",
        "    f1_weighted = f1_score(all_labels, all_preds, average='weighted')\n",
        "    f1_macro = f1_score(all_labels, all_preds, average='macro')\n",
        "    mcc = matthews_corrcoef(all_labels, all_preds)\n",
        "    accuracy = accuracy_score(all_labels, all_preds)\n",
        "\n",
        "    print(f\"F1 Score (weighted): {f1_weighted:.4f}\")\n",
        "    print(f\"F1 Score (macro): {f1_macro:.4f}\")\n",
        "    print(f\"Matthews Correlation Coefficient: {mcc:.4f}\")\n",
        "    print(f\"Accuracy: {accuracy:.4f}\")\n",
        "\n",
        "    return all_preds, all_labels, all_probs\n",
        "\n",
        "def predict_sequence(model, sequence, window_size, device, threshold=0.5):\n",
        "    \"\"\"Predict signal peptide positions for a full sequence\"\"\"\n",
        "    model.eval()\n",
        "\n",
        "    # Create dummy labels (we don't need them for prediction)\n",
        "    dummy_labels = [0] * len(sequence)\n",
        "\n",
        "    # Create sliding windows\n",
        "    windows, _, positions = create_sliding_windows(sequence, dummy_labels, window_size, stride=1)\n",
        "\n",
        "    # Encode windows\n",
        "    encoded_windows = [one_hot_encode_window(window) for window in windows]\n",
        "\n",
        "    predictions = []\n",
        "    probabilities = []\n",
        "\n",
        "    with torch.no_grad():\n",
        "        for encoded_window in encoded_windows:\n",
        "            window_tensor = torch.tensor(encoded_window, dtype=torch.float32).unsqueeze(0).to(device)\n",
        "            logit = model(window_tensor)\n",
        "            prob = torch.sigmoid(logit).item()\n",
        "            pred = int(prob > threshold)\n",
        "\n",
        "            predictions.append(pred)\n",
        "            probabilities.append(prob)\n",
        "\n",
        "    return predictions, probabilities, positions"
      ]
    },
    {
      "cell_type": "code",
      "execution_count": 11,
      "id": "a8ad5489",
      "metadata": {
        "colab": {
          "base_uri": "https://localhost:8080/",
          "height": 1000
        },
        "id": "a8ad5489",
        "outputId": "bcdc6aba-31b1-41e3-b921-3bc3e0bfbecb"
      },
      "outputs": [
        {
          "name": "stdout",
          "output_type": "stream",
          "text": [
            "Total records loaded: 25693\n"
          ]
        },
        {
          "name": "stderr",
          "output_type": "stream",
          "text": [
            "/tmp/ipython-input-5-1421037432.py:41: SettingWithCopyWarning: \n",
            "A value is trying to be set on a copy of a slice from a DataFrame.\n",
            "Try using .loc[row_indexer,col_indexer] = value instead\n",
            "\n",
            "See the caveats in the documentation: https://pandas.pydata.org/pandas-docs/stable/user_guide/indexing.html#returning-a-view-versus-a-copy\n",
            "  df[\"has_signal_peptide\"] = df[\"type\"].map({\n"
          ]
        },
        {
          "name": "stdout",
          "output_type": "stream",
          "text": [
            "Total windows created: 806011\n",
            "Signal peptide windows: 153863\n",
            "Non-signal peptide windows: 652148\n",
            "Train windows: 515774\n",
            "Validation windows: 129009\n",
            "Test windows: 161228\n",
            "Model parameters: 106,369\n"
          ]
        },
        {
          "name": "stderr",
          "output_type": "stream",
          "text": [
            "Epoch 1/10: 100%|██████████| 16118/16118 [01:11<00:00, 224.34it/s, loss=0.1324]\n"
          ]
        },
        {
          "name": "stdout",
          "output_type": "stream",
          "text": [
            "Epoch 1/10 - Train Loss: 0.1213, Val Loss: 0.0989, Val Acc: 0.9658\n"
          ]
        },
        {
          "name": "stderr",
          "output_type": "stream",
          "text": [
            "Epoch 2/10: 100%|██████████| 16118/16118 [01:10<00:00, 227.83it/s, loss=0.0956]\n"
          ]
        },
        {
          "name": "stdout",
          "output_type": "stream",
          "text": [
            "Epoch 2/10 - Train Loss: 0.0911, Val Loss: 0.0927, Val Acc: 0.9683\n"
          ]
        },
        {
          "name": "stderr",
          "output_type": "stream",
          "text": [
            "Epoch 3/10: 100%|██████████| 16118/16118 [01:10<00:00, 227.73it/s, loss=0.0296]\n"
          ]
        },
        {
          "name": "stdout",
          "output_type": "stream",
          "text": [
            "Epoch 3/10 - Train Loss: 0.0823, Val Loss: 0.0924, Val Acc: 0.9694\n"
          ]
        },
        {
          "name": "stderr",
          "output_type": "stream",
          "text": [
            "Epoch 4/10: 100%|██████████| 16118/16118 [01:11<00:00, 224.18it/s, loss=0.0774]\n"
          ]
        },
        {
          "name": "stdout",
          "output_type": "stream",
          "text": [
            "Epoch 4/10 - Train Loss: 0.0776, Val Loss: 0.0895, Val Acc: 0.9695\n"
          ]
        },
        {
          "name": "stderr",
          "output_type": "stream",
          "text": [
            "Epoch 5/10: 100%|██████████| 16118/16118 [01:10<00:00, 228.39it/s, loss=0.0548]\n"
          ]
        },
        {
          "name": "stdout",
          "output_type": "stream",
          "text": [
            "Epoch 5/10 - Train Loss: 0.0739, Val Loss: 0.0915, Val Acc: 0.9697\n"
          ]
        },
        {
          "name": "stderr",
          "output_type": "stream",
          "text": [
            "Epoch 6/10: 100%|██████████| 16118/16118 [01:10<00:00, 229.83it/s, loss=0.0667]\n"
          ]
        },
        {
          "name": "stdout",
          "output_type": "stream",
          "text": [
            "Epoch 6/10 - Train Loss: 0.0715, Val Loss: 0.0915, Val Acc: 0.9691\n"
          ]
        },
        {
          "name": "stderr",
          "output_type": "stream",
          "text": [
            "Epoch 7/10: 100%|██████████| 16118/16118 [01:10<00:00, 228.97it/s, loss=0.0119]\n"
          ]
        },
        {
          "name": "stdout",
          "output_type": "stream",
          "text": [
            "Epoch 7/10 - Train Loss: 0.0691, Val Loss: 0.0886, Val Acc: 0.9694\n"
          ]
        },
        {
          "name": "stderr",
          "output_type": "stream",
          "text": [
            "Epoch 8/10: 100%|██████████| 16118/16118 [01:10<00:00, 230.19it/s, loss=0.4664]\n"
          ]
        },
        {
          "name": "stdout",
          "output_type": "stream",
          "text": [
            "Epoch 8/10 - Train Loss: 0.0680, Val Loss: 0.0904, Val Acc: 0.9699\n"
          ]
        },
        {
          "name": "stderr",
          "output_type": "stream",
          "text": [
            "Epoch 9/10: 100%|██████████| 16118/16118 [01:11<00:00, 225.04it/s, loss=0.0585]\n"
          ]
        },
        {
          "name": "stdout",
          "output_type": "stream",
          "text": [
            "Epoch 9/10 - Train Loss: 0.0668, Val Loss: 0.0894, Val Acc: 0.9694\n"
          ]
        },
        {
          "name": "stderr",
          "output_type": "stream",
          "text": [
            "Epoch 10/10: 100%|██████████| 16118/16118 [01:15<00:00, 212.77it/s, loss=0.0660]\n"
          ]
        },
        {
          "name": "stdout",
          "output_type": "stream",
          "text": [
            "Epoch 10/10 - Train Loss: 0.0662, Val Loss: 0.0909, Val Acc: 0.9700\n",
            "\n",
            "Final Evaluation:\n"
          ]
        },
        {
          "name": "stderr",
          "output_type": "stream",
          "text": [
            "Evaluating: 100%|██████████| 5039/5039 [00:06<00:00, 812.39it/s]\n"
          ]
        },
        {
          "name": "stdout",
          "output_type": "stream",
          "text": [
            "Classification Report:\n",
            "              precision    recall  f1-score   support\n",
            "\n",
            "   No Signal       0.98      0.99      0.98    130433\n",
            "      Signal       0.95      0.91      0.93     30795\n",
            "\n",
            "    accuracy                           0.97    161228\n",
            "   macro avg       0.97      0.95      0.96    161228\n",
            "weighted avg       0.97      0.97      0.97    161228\n",
            "\n",
            "F1 Score (weighted): 0.9738\n",
            "F1 Score (macro): 0.9572\n",
            "Matthews Correlation Coefficient: 0.9149\n",
            "Accuracy: 0.9740\n"
          ]
        },
        {
          "data": {
            "image/png": "[encoded data removed]",
            "text/plain": [
              "<Figure size 1200x500 with 2 Axes>"
            ]
          },
          "metadata": {},
          "output_type": "display_data"
        }
      ],
      "source": [
        "# Load and preprocess data with sliding windows\n",
        "windows, labels, seq_ids = load_and_preprocess_data(FASTA_PATH)\n",
        "\n",
        "# Split data (keeping track of sequence IDs to avoid data leakage)\n",
        "unique_seq_ids = list(set(seq_ids))\n",
        "train_seq_ids, test_seq_ids = train_test_split(unique_seq_ids, test_size=0.2, random_state=42)\n",
        "train_seq_ids, val_seq_ids = train_test_split(train_seq_ids, test_size=0.2, random_state=42)\n",
        "\n",
        "# Create splits based on sequence IDs\n",
        "train_indices = [i for i, seq_id in enumerate(seq_ids) if seq_id in train_seq_ids]\n",
        "val_indices = [i for i, seq_id in enumerate(seq_ids) if seq_id in val_seq_ids]\n",
        "test_indices = [i for i, seq_id in enumerate(seq_ids) if seq_id in test_seq_ids]\n",
        "\n",
        "# Setup of split of windows and labels\n",
        "train_windows = [windows[i] for i in train_indices]\n",
        "train_labels = [labels[i] for i in train_indices]\n",
        "\n",
        "val_windows = [windows[i] for i in val_indices]\n",
        "val_labels = [labels[i] for i in val_indices]\n",
        "\n",
        "test_windows = [windows[i] for i in test_indices]\n",
        "test_labels = [labels[i] for i in test_indices]\n",
        "\n",
        "print(f\"Train windows: {len(train_windows)}\")\n",
        "print(f\"Validation windows: {len(val_windows)}\")\n",
        "print(f\"Test windows: {len(test_windows)}\")\n",
        "\n",
        "# Create datasets and loaders\n",
        "train_dataset = SlidingWindowDataset(train_windows, train_labels, WINDOW_SIZE)\n",
        "val_dataset = SlidingWindowDataset(val_windows, val_labels, WINDOW_SIZE)\n",
        "test_dataset = SlidingWindowDataset(test_windows, test_labels, WINDOW_SIZE)\n",
        "\n",
        "train_loader = DataLoader(train_dataset, batch_size=BATCH_SIZE, shuffle=True)\n",
        "val_loader = DataLoader(val_dataset, batch_size=BATCH_SIZE, shuffle=False)\n",
        "test_loader = DataLoader(test_dataset, batch_size=BATCH_SIZE, shuffle=False)\n",
        "\n",
        "# Initialize model (CNN version)\n",
        "model = SlidingWindowSignalPeptideClassifier(\n",
        "    WINDOW_SIZE, num_aa, hidden_dim=128, num_layers=2, use_cnn=False\n",
        ").to(DEVICE)\n",
        "\n",
        "print(f\"Model parameters: {sum(p.numel() for p in model.parameters()):,}\")\n",
        "\n",
        "# Train model\n",
        "train_losses, val_losses = train_model(model, train_loader, val_loader, EPOCHS, DEVICE)\n",
        "\n",
        "# Load best model for evaluation\n",
        "model.load_state_dict(torch.load(MODEL_PATH, map_location=DEVICE))\n",
        "\n",
        "# Evaluate model\n",
        "print(\"\\nFinal Evaluation:\")\n",
        "predictions, labels_true, probabilities = evaluate_model(model, test_loader, DEVICE)\n",
        "\n",
        "# Plot training curves\n",
        "plt.figure(figsize=(12, 5))\n",
        "\n",
        "plt.subplot(1, 2, 1)\n",
        "plt.plot(train_losses, label='Train Loss')\n",
        "plt.plot(val_losses, label='Validation Loss')\n",
        "plt.xlabel('Epoch')\n",
        "plt.ylabel('Loss')\n",
        "plt.legend()\n",
        "plt.title('Training Curves')\n",
        "\n",
        "plt.subplot(1, 2, 2)\n",
        "plt.hist(probabilities, bins=50, alpha=0.7, label='All Predictions')\n",
        "plt.xlabel('Prediction Probability')\n",
        "plt.ylabel('Count')\n",
        "plt.title('Prediction Probability Distribution')\n",
        "plt.legend()\n",
        "\n",
        "plt.tight_layout()\n",
        "plt.show()"
      ]
    },
    {
      "cell_type": "code",
      "execution_count": 12,
      "id": "O0_1O3GUiKEv",
      "metadata": {
        "colab": {
          "base_uri": "https://localhost:8080/",
          "height": 122
        },
        "id": "O0_1O3GUiKEv",
        "outputId": "2cc95e2a-566e-451f-ebe8-6048d3f7265f"
      },
      "outputs": [
        {
          "data": {
            "application/vnd.google.colaboratory.intrinsic+json": {
              "type": "string"
            },
            "text/plain": [
              "'\\n# Example: Predict on a sample sequence\\nsample_sequence = \"MKKTAIAIAVALAGFATVAQAAPKDNTWYTGAKLGHLQGPVRGVNPTTNAASMKNFTNDIKKEDTSFVTLDAAQ\"\\nprint(f\"\\nExample prediction for sequence: {sample_sequence[:50]}...\")\\npreds, probs, pos = predict_sequence(model, sample_sequence, WINDOW_SIZE, DEVICE)\\n\\nprint(\"Position\\tAA\\tProbability\\tPrediction\")\\nfor i, (pred, prob, position) in enumerate(zip(preds[:20], probs[:20], pos[:20])):\\n    aa = sample_sequence[position] if position < len(sample_sequence) else \\'X\\'\\n    print(f\"{position:3d}\\t{aa}\\t{prob:.3f}\\t\\t{\\'Signal\\' if pred else \\'No Signal\\'}\")\\n\\n# Save final model\\ntorch.save(model.state_dict(), MODEL_PATH)\\nprint(f\"\\nFinal model saved to {MODEL_PATH}\")\\n'"
            ]
          },
          "execution_count": 12,
          "metadata": {},
          "output_type": "execute_result"
        }
      ],
      "source": [
        "\"\"\"\n",
        "# Example: Predict on a sample sequence\n",
        "sample_sequence = \"MKKTAIAIAVALAGFATVAQAAPKDNTWYTGAKLGHLQGPVRGVNPTTNAASMKNFTNDIKKEDTSFVTLDAAQ\"\n",
        "print(f\"\\nExample prediction for sequence: {sample_sequence[:50]}...\")\n",
        "preds, probs, pos = predict_sequence(model, sample_sequence, WINDOW_SIZE, DEVICE)\n",
        "\n",
        "print(\"Position\\tAA\\tProbability\\tPrediction\")\n",
        "for i, (pred, prob, position) in enumerate(zip(preds[:20], probs[:20], pos[:20])):\n",
        "    aa = sample_sequence[position] if position < len(sample_sequence) else 'X'\n",
        "    print(f\"{position:3d}\\t{aa}\\t{prob:.3f}\\t\\t{'Signal' if pred else 'No Signal'}\")\n",
        "\n",
        "# Save final model\n",
        "torch.save(model.state_dict(), MODEL_PATH)\n",
        "print(f\"\\nFinal model saved to {MODEL_PATH}\")\n",
        "\"\"\""
      ]
    }
  ],
  "metadata": {
    "accelerator": "GPU",
    "colab": {
      "gpuType": "T4",
      "provenance": []
    },
    "kernelspec": {
      "display_name": "Python 3",
      "name": "python3"
    },
    "language_info": {
      "codemirror_mode": {
        "name": "ipython",
        "version": 3
      },
      "file_extension": ".py",
      "mimetype": "text/x-python",
      "name": "python",
      "nbconvert_exporter": "python",
      "pygments_lexer": "ipython3",
      "version": "3.12.4"
    }
  },
  "nbformat": 4,
  "nbformat_minor": 5
}
