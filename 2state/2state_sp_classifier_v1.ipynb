{
  "cells": [
    {
      "cell_type": "markdown",
      "id": "ac424b32",
      "metadata": {
        "id": "ac424b32"
      },
      "source": [
        "## Imports"
      ]
    },
    {
      "cell_type": "code",
      "execution_count": 14,
      "id": "fd0e792f",
      "metadata": {
        "colab": {
          "base_uri": "https://localhost:8080/"
        },
        "id": "fd0e792f",
        "outputId": "378c8f4b-4608-4ce9-eac6-6ce58070f8f5"
      },
      "outputs": [
        {
          "output_type": "stream",
          "name": "stdout",
          "text": [
            "Requirement already satisfied: transformers in /usr/local/lib/python3.11/dist-packages (4.52.4)\n",
            "Requirement already satisfied: filelock in /usr/local/lib/python3.11/dist-packages (from transformers) (3.18.0)\n",
            "Requirement already satisfied: huggingface-hub<1.0,>=0.30.0 in /usr/local/lib/python3.11/dist-packages (from transformers) (0.33.0)\n",
            "Requirement already satisfied: numpy>=1.17 in /usr/local/lib/python3.11/dist-packages (from transformers) (2.0.2)\n",
            "Requirement already satisfied: packaging>=20.0 in /usr/local/lib/python3.11/dist-packages (from transformers) (24.2)\n",
            "Requirement already satisfied: pyyaml>=5.1 in /usr/local/lib/python3.11/dist-packages (from transformers) (6.0.2)\n",
            "Requirement already satisfied: regex!=2019.12.17 in /usr/local/lib/python3.11/dist-packages (from transformers) (2024.11.6)\n",
            "Requirement already satisfied: requests in /usr/local/lib/python3.11/dist-packages (from transformers) (2.32.3)\n",
            "Requirement already satisfied: tokenizers<0.22,>=0.21 in /usr/local/lib/python3.11/dist-packages (from transformers) (0.21.2)\n",
            "Requirement already satisfied: safetensors>=0.4.3 in /usr/local/lib/python3.11/dist-packages (from transformers) (0.5.3)\n",
            "Requirement already satisfied: tqdm>=4.27 in /usr/local/lib/python3.11/dist-packages (from transformers) (4.67.1)\n",
            "Requirement already satisfied: fsspec>=2023.5.0 in /usr/local/lib/python3.11/dist-packages (from huggingface-hub<1.0,>=0.30.0->transformers) (2025.3.2)\n",
            "Requirement already satisfied: typing-extensions>=3.7.4.3 in /usr/local/lib/python3.11/dist-packages (from huggingface-hub<1.0,>=0.30.0->transformers) (4.14.0)\n",
            "Requirement already satisfied: hf-xet<2.0.0,>=1.1.2 in /usr/local/lib/python3.11/dist-packages (from huggingface-hub<1.0,>=0.30.0->transformers) (1.1.5)\n",
            "Requirement already satisfied: charset-normalizer<4,>=2 in /usr/local/lib/python3.11/dist-packages (from requests->transformers) (3.4.2)\n",
            "Requirement already satisfied: idna<4,>=2.5 in /usr/local/lib/python3.11/dist-packages (from requests->transformers) (3.10)\n",
            "Requirement already satisfied: urllib3<3,>=1.21.1 in /usr/local/lib/python3.11/dist-packages (from requests->transformers) (2.4.0)\n",
            "Requirement already satisfied: certifi>=2017.4.17 in /usr/local/lib/python3.11/dist-packages (from requests->transformers) (2025.6.15)\n",
            "Requirement already satisfied: jax in /usr/local/lib/python3.11/dist-packages (0.5.2)\n",
            "Requirement already satisfied: jaxlib<=0.5.2,>=0.5.1 in /usr/local/lib/python3.11/dist-packages (from jax) (0.5.1)\n",
            "Requirement already satisfied: ml_dtypes>=0.4.0 in /usr/local/lib/python3.11/dist-packages (from jax) (0.4.1)\n",
            "Requirement already satisfied: numpy>=1.25 in /usr/local/lib/python3.11/dist-packages (from jax) (2.0.2)\n",
            "Requirement already satisfied: opt_einsum in /usr/local/lib/python3.11/dist-packages (from jax) (3.4.0)\n",
            "Requirement already satisfied: scipy>=1.11.1 in /usr/local/lib/python3.11/dist-packages (from jax) (1.15.3)\n",
            "Requirement already satisfied: flax in /usr/local/lib/python3.11/dist-packages (0.10.6)\n",
            "Requirement already satisfied: numpy>=1.23.2 in /usr/local/lib/python3.11/dist-packages (from flax) (2.0.2)\n",
            "Requirement already satisfied: jax>=0.5.1 in /usr/local/lib/python3.11/dist-packages (from flax) (0.5.2)\n",
            "Requirement already satisfied: msgpack in /usr/local/lib/python3.11/dist-packages (from flax) (1.1.1)\n",
            "Requirement already satisfied: optax in /usr/local/lib/python3.11/dist-packages (from flax) (0.2.5)\n",
            "Requirement already satisfied: orbax-checkpoint in /usr/local/lib/python3.11/dist-packages (from flax) (0.11.16)\n",
            "Requirement already satisfied: tensorstore in /usr/local/lib/python3.11/dist-packages (from flax) (0.1.74)\n",
            "Requirement already satisfied: rich>=11.1 in /usr/local/lib/python3.11/dist-packages (from flax) (13.9.4)\n",
            "Requirement already satisfied: typing_extensions>=4.2 in /usr/local/lib/python3.11/dist-packages (from flax) (4.14.0)\n",
            "Requirement already satisfied: PyYAML>=5.4.1 in /usr/local/lib/python3.11/dist-packages (from flax) (6.0.2)\n",
            "Requirement already satisfied: treescope>=0.1.7 in /usr/local/lib/python3.11/dist-packages (from flax) (0.1.9)\n",
            "Requirement already satisfied: jaxlib<=0.5.2,>=0.5.1 in /usr/local/lib/python3.11/dist-packages (from jax>=0.5.1->flax) (0.5.1)\n",
            "Requirement already satisfied: ml_dtypes>=0.4.0 in /usr/local/lib/python3.11/dist-packages (from jax>=0.5.1->flax) (0.4.1)\n",
            "Requirement already satisfied: opt_einsum in /usr/local/lib/python3.11/dist-packages (from jax>=0.5.1->flax) (3.4.0)\n",
            "Requirement already satisfied: scipy>=1.11.1 in /usr/local/lib/python3.11/dist-packages (from jax>=0.5.1->flax) (1.15.3)\n",
            "Requirement already satisfied: markdown-it-py>=2.2.0 in /usr/local/lib/python3.11/dist-packages (from rich>=11.1->flax) (3.0.0)\n",
            "Requirement already satisfied: pygments<3.0.0,>=2.13.0 in /usr/local/lib/python3.11/dist-packages (from rich>=11.1->flax) (2.19.2)\n",
            "Requirement already satisfied: absl-py>=0.7.1 in /usr/local/lib/python3.11/dist-packages (from optax->flax) (1.4.0)\n",
            "Requirement already satisfied: chex>=0.1.87 in /usr/local/lib/python3.11/dist-packages (from optax->flax) (0.1.89)\n",
            "Requirement already satisfied: etils[epath,epy] in /usr/local/lib/python3.11/dist-packages (from orbax-checkpoint->flax) (1.12.2)\n",
            "Requirement already satisfied: nest_asyncio in /usr/local/lib/python3.11/dist-packages (from orbax-checkpoint->flax) (1.6.0)\n",
            "Requirement already satisfied: protobuf in /usr/local/lib/python3.11/dist-packages (from orbax-checkpoint->flax) (5.29.5)\n",
            "Requirement already satisfied: humanize in /usr/local/lib/python3.11/dist-packages (from orbax-checkpoint->flax) (4.12.3)\n",
            "Requirement already satisfied: simplejson>=3.16.0 in /usr/local/lib/python3.11/dist-packages (from orbax-checkpoint->flax) (3.20.1)\n",
            "Requirement already satisfied: toolz>=0.9.0 in /usr/local/lib/python3.11/dist-packages (from chex>=0.1.87->optax->flax) (0.12.1)\n",
            "Requirement already satisfied: mdurl~=0.1 in /usr/local/lib/python3.11/dist-packages (from markdown-it-py>=2.2.0->rich>=11.1->flax) (0.1.2)\n",
            "Requirement already satisfied: fsspec in /usr/local/lib/python3.11/dist-packages (from etils[epath,epy]->orbax-checkpoint->flax) (2025.3.2)\n",
            "Requirement already satisfied: importlib_resources in /usr/local/lib/python3.11/dist-packages (from etils[epath,epy]->orbax-checkpoint->flax) (6.5.2)\n",
            "Requirement already satisfied: zipp in /usr/local/lib/python3.11/dist-packages (from etils[epath,epy]->orbax-checkpoint->flax) (3.23.0)\n",
            "Requirement already satisfied: optax in /usr/local/lib/python3.11/dist-packages (0.2.5)\n",
            "Requirement already satisfied: absl-py>=0.7.1 in /usr/local/lib/python3.11/dist-packages (from optax) (1.4.0)\n",
            "Requirement already satisfied: chex>=0.1.87 in /usr/local/lib/python3.11/dist-packages (from optax) (0.1.89)\n",
            "Requirement already satisfied: jax>=0.4.27 in /usr/local/lib/python3.11/dist-packages (from optax) (0.5.2)\n",
            "Requirement already satisfied: jaxlib>=0.4.27 in /usr/local/lib/python3.11/dist-packages (from optax) (0.5.1)\n",
            "Requirement already satisfied: numpy>=1.18.0 in /usr/local/lib/python3.11/dist-packages (from optax) (2.0.2)\n",
            "Requirement already satisfied: typing_extensions>=4.2.0 in /usr/local/lib/python3.11/dist-packages (from chex>=0.1.87->optax) (4.14.0)\n",
            "Requirement already satisfied: toolz>=0.9.0 in /usr/local/lib/python3.11/dist-packages (from chex>=0.1.87->optax) (0.12.1)\n",
            "Requirement already satisfied: ml_dtypes>=0.4.0 in /usr/local/lib/python3.11/dist-packages (from jax>=0.4.27->optax) (0.4.1)\n",
            "Requirement already satisfied: opt_einsum in /usr/local/lib/python3.11/dist-packages (from jax>=0.4.27->optax) (3.4.0)\n",
            "Requirement already satisfied: scipy>=1.11.1 in /usr/local/lib/python3.11/dist-packages (from jax>=0.4.27->optax) (1.15.3)\n"
          ]
        }
      ],
      "source": [
        "!pip install transformers\n",
        "!pip install jax\n",
        "!pip install flax\n",
        "!pip install optax\n",
        "from transformers import AutoTokenizer, AutoModel\n",
        "import torch\n",
        "import numpy as np\n",
        "import jax.numpy as jnp\n",
        "import jax\n",
        "from flax import linen as nn\n",
        "import optax\n",
        "from sklearn.utils import resample\n",
        "from sklearn import preprocessing\n",
        "from sklearn.model_selection import train_test_split\n",
        "import pandas as pd"
      ]
    },
    {
      "cell_type": "markdown",
      "id": "bb848355",
      "metadata": {
        "id": "bb848355"
      },
      "source": [
        "## Constants and setup"
      ]
    },
    {
      "cell_type": "code",
      "execution_count": 15,
      "id": "c60e4157",
      "metadata": {
        "colab": {
          "base_uri": "https://localhost:8080/"
        },
        "id": "c60e4157",
        "outputId": "3f7056bc-1f1c-4ad8-f0f2-4d7941a42180"
      },
      "outputs": [
        {
          "output_type": "stream",
          "name": "stdout",
          "text": [
            "Drive already mounted at /content/drive; to attempt to forcibly remount, call drive.mount(\"/content/drive\", force_remount=True).\n"
          ]
        }
      ],
      "source": [
        "from google.colab import drive\n",
        "import os\n",
        "drive.mount('/content/drive')\n",
        "DRIVE_PATH = \"/content/drive/MyDrive/PBLRost/\"\n",
        "FASTA_PATH = os.path.join(DRIVE_PATH, \"data/complete_set_unpartitioned.fasta\")\n",
        "\n",
        "device = torch.device(\"cuda\" if torch.cuda.is_available() else \"cpu\")\n",
        "tokenizer = AutoTokenizer.from_pretrained(\"Rostlab/prot_bert\", do_lower_case=False)\n",
        "encoder = AutoModel.from_pretrained(\"Rostlab/prot_bert\").to(device)"
      ]
    },
    {
      "cell_type": "code",
      "execution_count": 16,
      "id": "aae8306b",
      "metadata": {
        "id": "aae8306b"
      },
      "outputs": [],
      "source": [
        "def encode_sequence(seq):\n",
        "    seq = \" \".join(seq)  # insert spaces between amino acids\n",
        "    tokens = tokenizer(seq, return_tensors=\"pt\")\n",
        "    with torch.no_grad():\n",
        "        output = encoder(**tokens)\n",
        "        embedding = output.last_hidden_state  # [1, seq_len, 1024]\n",
        "    print(f\"Encoded sequence: {seq}\")\n",
        "    return embedding[0, 1:-1].cpu().numpy()  # remove [CLS] and [SEP] to match label length"
      ]
    },
    {
      "cell_type": "code",
      "execution_count": 17,
      "id": "d883ad20",
      "metadata": {
        "id": "d883ad20"
      },
      "outputs": [],
      "source": [
        "from torch.nn.utils.rnn import pad_sequence\n",
        "\n",
        "def pad_array(arr, length, pad_value=0):\n",
        "\n",
        "    if len(arr.shape) == 1:\n",
        "        return np.pad(arr, (0, length - len(arr)), constant_values=pad_value)\n",
        "    return np.pad(arr, ((0, length - arr.shape[0]), (0, 0)), constant_values=pad_value)\n"
      ]
    },
    {
      "cell_type": "code",
      "execution_count": null,
      "id": "949cad6b",
      "metadata": {
        "id": "949cad6b",
        "outputId": "8a35fe94-b429-4b51-a035-2c87abfb5334",
        "colab": {
          "base_uri": "https://localhost:8080/"
        }
      },
      "outputs": [
        {
          "output_type": "stream",
          "name": "stdout",
          "text": [
            "Total records: 25693\n",
            "Total records after oversampling: 1710\n",
            "Class distribution after oversampling:\n",
            "type\n",
            "NO_SP    855\n",
            "LIPO     468\n",
            "SP       330\n",
            "PILIN     44\n",
            "TAT       13\n",
            "Name: count, dtype: int64\n",
            "Encoded sequence: M N K Q S G M T L L E V L L A M S I F T A V A L T L M S S M Q G Q R N A I E R M R N E T L A L W I A D N Q L Q S Q D S F G E E N T S S S G K\n",
            "Encoded sequence: M N Y L V V I C F A L L L M T G V E S G R D A Y I A D N L N C A Y T C G S N S Y C N T E C T K N G A V S G Y C Q W L G K Y G N A C W C I N L\n",
            "Encoded sequence: M R S K K L W I S L L F A L T L I F T M A F S N M S A Q A A G K S S T E K K Y I V G F K Q T M S A M S S A K K K D V I S E K G G K V Q K Q F\n",
            "Encoded sequence: M A G V R S L R C S R G C A G G C E C G D K G K C S D S S L L G K R L S E D S S R H Q L L Q K W A S M W S S M S E D A S V A D M E R A Q L E\n",
            "Encoded sequence: M A K N T T N R H Y S L R K L K T G T A S V A V A L T V V G A G L V A G Q T V R A D H S D L V A E K Q R L E D L G Q K F E R L K Q R S E L Y\n",
            "Encoded sequence: M T K L K D Q T R A I L L A T L M V T S V F A G A I A F T G S A A A E R G N L D A D S E S F N K T I Q S G D R V F L G E E I S T D A G L G A\n",
            "Encoded sequence: M R K L N S L V S L V L A G L L V I G C S N Q N Q T E Q E I L S A Q A L Y T Q A Q T Q L E K G D Y A S A I A S F E K M G S R N V Q A N L F G\n",
            "Encoded sequence: M Q D W R A A L E E Y Y S R Y L D S A L V L A I V N D S D D S N T A R E I L E A L S I E S Q C D S H E E H W D N L R R D E Q E L L N L K T L\n",
            "Encoded sequence: M K K W T I A A S L S I G V L A L S A C N S D D E I V A E T E A G N I T K E E F Y E E L K D V N G E S T L Q Q L V T V K V L E D N Y E V T D\n",
            "Encoded sequence: M V S K I M N K K Y E K G L S L I E S A M V L A L A A T V T A G V M F Y Y Q S A S D S N K S Q N A I S E V M S A T S A I N G L Y I G Q T S Y\n",
            "Encoded sequence: M G F D I D S Q K I C S D L E S S D R R L K T T V L D E L L D K C K E A T N S E S A D K I A D V F D K L Y L H L L K C Y E D R F E S V R S K\n",
            "Encoded sequence: M T S L T Q R S S G L V Q R R T E A S R N A A D K E R A A G G G G G S G E D E A Q S R R D E Q D D D D K G D S K E T R L T L M E E V L L L G\n",
            "Encoded sequence: M D S T R N S A S S N S T G C F T D Q K K R K A L Y E V F K K L S G V D C Q R N E G N V V E G V T C Y Y G E M N K E Q F H V A I F Q T D K N\n",
            "Encoded sequence: M I E Y I I G V I G L L L A S V Q D F R S R E I E D Y I W I V L A V F G I L F A I Y S A I T L S N Y S I L I N S I S G F V I C F I L G Y M M\n",
            "Encoded sequence: M A A S A L A W L L L W A A G L V G R L A A D I S D A R F S D G V R A T C S E I I L R Q E F L K D G F H R D L L I K V K F G E S I E D L Q T\n",
            "Encoded sequence: M K K L T T L L L A S T L L I A A C G N D D S K K D D S K T S K K D D G V K A E L K Q A T K A Y D K Y T D E Q L N E F L K G T E K F V K A I\n",
            "Encoded sequence: M M K R L I V L V L L A S T L L T G C N T A R G F G E D I K H L G N S I S R A A S\n",
            "Encoded sequence: M F R K R L V N K S S S D E K N Q K K R Q K I N F S E E K L V A S D E E K G S S D L M S L A K S G N S R T L Q L S H E N E G K L Q K K G E D\n",
            "Encoded sequence: M A M D E Y L W M V I L G F I I A F I L A F S V G A N D V A N S F G T A V G S G V V T L R Q A C I L A S I F E T T G S V L L G A K V G E T I\n",
            "Encoded sequence: M T L E S M M A C C L S D E V K E S K R I N A E I E K Q L R R D K R D A R R E L K L L L L G T G E S G K S T F I K Q M R I I H G A G Y S E E\n",
            "Encoded sequence: M N S K F I L K Y F I L A F F L V S C Q T Y Q I A Y D R F S Q V L D S Q Y D I G V N Y S R D G I F K S V I S I K Y D K L K N K R E Y F I L V\n",
            "Encoded sequence: M R K K A L I F T V I F G I I F L A V L L V S A S I Y K S A M A Q K E E G H E A A A A E A K K E T D L A H V D Q V E T F V G K E K Y Y V V K\n",
            "Encoded sequence: M N S L L I I T A C F A L V G T V W A K E G Y L V K K S D G C K Y D C F W L G K N E H C D T E C K A K N Q G G S Y G Y C Y A F A C W C E G L\n",
            "Encoded sequence: M E G R L A N M W R L T V N E S K F V E T A L Q S E L R V D G R G L Y D Y R K L T I K F G K E Y G S S E V Q L G Q T H V M G F V T A Q L V Q\n",
            "Encoded sequence: M A V S H S V K E R T I S E N S L I I L L Q G L Q G R V T T V D L R D E S V A H G R I D N V D A F M N I R L A K V T Y T D R W G H Q V K L D\n",
            "Encoded sequence: M S S L S R E L V F L I L Q F L D E E K F K E T V H K L E Q E S G F F F N M K Y F E D E V H N G N W D E V E K Y L S G F T K V D D N R Y S M\n",
            "Encoded sequence: M R F Q L F Y I L G L L S V T S L T H A A S N L I C Y Y D S N S Y L R Q G L A K M H T N E L D L A L Q F C T H L V Y G Y A G L K S G T L E L\n",
            "Encoded sequence: M S A F G H D E A W M E A G G F G L E A A E R T E Y Q S L C K S K L L F L G E Q S V G K T S I I S R F M Y N S F G C A C Q A T V G I D F L S\n",
            "Encoded sequence: M M D L I I S T I L L S L F I H F F D K F A K K R T I D G A Y R I Y V S V S N N K D L K K N K E I L E Q L L T V K K E L N A T S S Q D Q F A\n",
            "Encoded sequence: M K K G I F L S I G I A V L F S A C G N S I D E K T V K K Y E N Q L N Q T V K Q E I A S L S Q D S G I K I E F S D F K C N A D G D F I A C L\n",
            "Encoded sequence: M A I I M T E S S Y E R R V K A L Y E K Q I H M E A L E A K F I K K V F K F N S N L L D V K E A A S R H Q R K V G K L Q K V L M E R R E E L\n",
            "Encoded sequence: M T I T Y T S Q V A N A R L G S F S R L L L C W R G S I Y K L L Y G E F L I F L L C Y Y I I R F I Y R L A L T E E Q Q L M F E K L T L Y C D\n",
            "Encoded sequence: M L T E E E L K R L Y R I Q K T L M Q M L R D R G Y F I A D S E L T M T K Q Q F I R K H G D N M K R E D L V T L K A K R N D N S D Q L Y I F\n",
            "Encoded sequence: M N R T N Q L I L G A V V L G S T L L A G C S S N A K I D Q L S S D V Q T L S A K V E Q L S N D V N A M R S D V Q A A K D D A A R A N Q R L\n",
            "Encoded sequence: M T N M K S V E A Y Q Q L D N Q N L K K V V G G K Y Y G N G V H C T K S G C S V N W G E A A S A G I H R L A N G G N G F W\n",
            "Encoded sequence: M N S L A N N N K L S T E D E E I H S A R K R G Y N E E Q N Y S E A R K K Q R D Q G L L S Q E S N D G N I D S A L L S E G A T L K G T Q S Q\n",
            "Encoded sequence: M L S S V A L R Y L L V L S L A F L A V V T S S R T Q S R F A S Y E L M G T E G T E C V T T K T I S Q I C Y Q C A T R H E D S F V Q V Y Q E\n",
            "Encoded sequence: M V S V K K I V A S A L V G V L M F S A V G C N M V E K T Q A A I D K T T V A T V N G E K I T L G E V D S H L K G V F A Q M K S Q Y G D K Y\n",
            "Encoded sequence: M A S K G L Q D L K Q Q V E G T A Q E A V S A A G A A A Q Q V V D Q A T E A G Q K A M D Q L A K T T Q E T I D K T A N Q A S D T F S G I G K\n",
            "Encoded sequence: M L R L F Y F S A I I A S V I L N F V G I I M N L F I T V V N C K T W V K S H R I S S S D R I L F S L G I T R F L M L G L F L V N T I Y F V\n",
            "Encoded sequence: M A A A V R Q D L A Q L M N S S G S H K D L A G K Y R Q I L E K A I Q L S G A E Q L E A L K A F V E A M V N E N V S L V I S R Q L L T D F C\n",
            "Encoded sequence: M N F Y K I F V F I A L I L A L S V S Q S E A G W L K K I G K K I E R V G Q N T R D A T V K G L E V A Q Q A A N V A A T V R G\n",
            "Encoded sequence: M N R T K L V L G A V I L A S T M L A G C S S N A K I D Q L S S D V Q T L N A K V D Q L S N D V N A V R A D V Q A A K D D A A R A N Q R L D\n",
            "Encoded sequence: M S L R E K T I S G A K W S A I A T V I I I G L G L V Q M T V L A R I I D N H Q F G L L T V S L V I I A L A D T L S D F G I A N S I I Q R K\n",
            "Encoded sequence: M K K Q I I S L G A L A V A S S L F T W D N K A D A I V T K D Y S K E S R V N E K S K K G A T V S D Y Y Y W K I I D S L E A Q F T G A I D L\n",
            "Encoded sequence: M L C E Q I S E Y V D V S R E I V K V M V S D S A A G A L K K S L D R Q E A M I D S L L D T E V Q A S Q L I R D L M A V E E K V A Q K L L D\n",
            "Encoded sequence: M F S A L G K W V R G S R N D K D F V T K Y T A D L S Q I T S Q I H Q L D V A L K K S Q S I L S Q W Q S N L T F Y G I A L T V L A L S Y T Y\n",
            "Encoded sequence: M K K L I S G I I A V A M A L S L A A C Q K E T K V I S L S G K T M G T T Y H V K Y L D D G S I T A T S E K T H E E I E A I L K D V N A K M\n",
            "Encoded sequence: M Q Q Q Q Q Q Q Q Q Q Q Q Q Q Q Q Q Q Q Q Q Q Q Q Q Q Q Q Q Q Q Q Q Q Q Q Q Q Q Q Q Q Q Q Q Q Q Q Q Q Q Q Q Q Q Q Q Q Q Q Q Q Q Q Q Q Q Q Q\n",
            "Encoded sequence: M K K T L L G S L I L L A F A G N V Q A D I N T E T S G K V T F F G K V V E N T C K V K T E H K N L S V V L N D V G K N S L S T K V N T A M\n",
            "Encoded sequence: M V T V G V F S E R A S L T H Q L G E F I V K K Q D E A L Q K K S D F K V S V S G G S L I D A L Y E S L V A D E S L S S R V Q W S K W Q I Y\n",
            "Encoded sequence: M K K L T K V L L V A G S V A V L A A C G S S K K D E S A G Q M F G G Y S V Q D L Q Q R Y N T V Y F G F D K Y N I E G E Y V Q I L D A H A A\n",
            "Encoded sequence: M K R W I L F L I L S V F L I G C A K T K I V D D I D L V Q V A A Y D T E A E G K L K G T F A I S A Y K G G G E G E T K I Y S A S G Q T G R\n",
            "Encoded sequence: M A S W L Y E C L C E A E L A Q Y Y S H F T A L G L Q K I D E L A K I T M K D Y S K L G V H D M N D R K R L F Q L I K I I K I M Q E E D K A\n",
            "Encoded sequence: M E E E M S N R R V S N R T R K V A T K M A A A L T S N D N R T Q A A I A R L E A L E N D N G A I E V I D L N D D E E A S L D E D D D L G Y\n",
            "Encoded sequence: M V K K T I A A I F S V L V L S T V L T A C N T T R G V G E D I S D G G N A I S G A A T K A Q Q\n",
            "Encoded sequence: M A K K K S K S R S K S S R R V L D A L Q L A E R E I N G E F D N S S D N D K R H D A R R N G T V V N L L K R S K G D T N S D E D D I D S E\n",
            "Encoded sequence: M G Y L K R L V L Y I V I M V M S V F I I G C D K S S D T A E K S K E D S K E T Q I K K S F A K T L D M Y S I K N L E E L Y D K E G Y R D G\n",
            "Encoded sequence: M S A V L T A G G G L T A G D R S I I T A I N T G A S S L S F V G S A F I V L C Y C L F K E L R K F S F K L V F Y L A L S D M L C S F F L I\n",
            "Encoded sequence: M V K V K S K K N S L T S S L D N K I V D L I Y R L L E E K T L D R K R S L R Q E S Q G E E G E N N E G E E D E D I F E S M F F A K D L T A\n",
            "Encoded sequence: M G S V S S L I S G H S L H S K H C R A S Q Y K L R K S S H L K K L N R Y S D G L L R F G F S Q D S G R G K S S S K M G K S E D F F Y I K V\n",
            "Encoded sequence: M F R V F G S F G S K G N Q S S G E E Q S T K T K Q V L K Q A N D F E I A L K A M D F V L D D R T D E G L N L L K K A E M E T G S D Q T I L\n",
            "Encoded sequence: M L L T A L A V L F A S T G C Q A R L S V S G T N L N Y N G H H I F L S G A N Q A W V N Y A R D F G H N Q Y S K G K S T F E S T L S D I Q S\n",
            "Encoded sequence: M G N N L M Q T D L S V W G M Y Q H A D I V V K C V M I G L I L A S V V T W A I F F S K S V E F F N Q K R R L K R E Q Q L L A E A R S L N Q\n",
            "Encoded sequence: M K K W F I A L A G L L L T V T L A G C G S Q T V A T T N G G K I T E S A Y Y S S L K G T S S G K Q V L Q Q M I L N K V L E K Q Y G D K V S\n",
            "Encoded sequence: M K K R T I A T G L V T L L S I V T L A A C S K T N Q N S K I A T M K G D T I T V A D F Y N E V K N S T A S K Q A V L S L L V S K V F E K Q\n",
            "Encoded sequence: M R K L G L A L S I M G L L L V S I V A G C I G G G T E T K T E A K K V K V A I L F D V G G R G D L S F N D M A Y L G A E R A K K E L G V E\n",
            "Encoded sequence: M R F K D Q V H F I R R N M K K N R L R V F M T I L A T T M A C A F L V V L S S V G F G I Q K T I T D M T M S Q Q I V T K V S V M G K E G D\n"
          ]
        }
      ],
      "source": [
        "def load_and_prep_data(dataPath: str):\n",
        "    import pandas as pd\n",
        "\n",
        "    records = []  # uniprot_ac, kingdom, type_, sequence, label\n",
        "    with open(dataPath, \"r\") as f:\n",
        "        current_record = None\n",
        "        for line in f:\n",
        "            if line.startswith(\">\"):\n",
        "                if current_record is not None:\n",
        "                    if current_record[\"sequence\"] is not None and current_record[\"label\"] is not None:\n",
        "                        records.append(current_record)\n",
        "                    else:\n",
        "                        print(\"Skipping incomplete record:\", current_record)\n",
        "                uniprot_ac, kingdom, type_ = line[1:].strip().split(\"|\")\n",
        "                current_record = {\"uniprot_ac\": uniprot_ac, \"kingdom\": kingdom, \"type\": type_, \"sequence\": None, \"label\": None}\n",
        "            else:\n",
        "                if current_record[\"sequence\"] is None:\n",
        "                    current_record[\"sequence\"] = line.strip()\n",
        "                elif current_record[\"label\"] is None:\n",
        "                    current_record[\"label\"] = line.strip()\n",
        "                else:\n",
        "                    print(\"Skipping extra line in record:\", current_record)\n",
        "        if current_record is not None:\n",
        "            if current_record[\"sequence\"] is not None and current_record[\"label\"] is not None:\n",
        "                records.append(current_record)\n",
        "            else:\n",
        "                print(\"Skipping incomplete record:\", current_record)\n",
        "\n",
        "    print(f\"Total records: {len(records)}\")\n",
        "    df_raw = pd.DataFrame(records)\n",
        "    df_raw.dropna(subset=['sequence', 'label', 'type'], inplace=True)\n",
        "\n",
        "    # Remove records with 'P' in sequence (if needed)\n",
        "    df = df_raw[~df_raw[\"sequence\"].str.contains(\"P\")].copy()\n",
        "\n",
        "    df_majority = df[df[\"type\"] == \"NO_SP\"]\n",
        "    df_minority = df[df[\"type\"] != \"NO_SP\"]\n",
        "\n",
        "    # Upsample minority class\n",
        "    from sklearn.utils import resample\n",
        "    df_minority_upsampled = resample(df_minority,\n",
        "                                    replace=True,\n",
        "                                    n_samples=len(df_majority),\n",
        "                                    random_state=42)\n",
        "    df_upsampled = pd.concat([df_majority, df_minority_upsampled])\n",
        "    df_upsampled = df_upsampled.sample(frac=1, random_state=42).reset_index(drop=True)\n",
        "\n",
        "    label_map = {'S': 1, 'T': 1, 'L': 1, 'I': 0, 'M': 0, 'O': 0}\n",
        "    df_encoded = df_upsampled.copy()\n",
        "    df_encoded[\"label\"] = df_encoded[\"label\"].apply(lambda x: [label_map[c] for c in x if c in label_map])\n",
        "    df_encoded = df_encoded[df_encoded[\"label\"].map(len) > 0]\n",
        "\n",
        "    sequences = df_encoded[\"sequence\"].tolist()\n",
        "    labels = df_encoded[\"label\"].tolist()\n",
        "\n",
        "    print(f\"Total records after oversampling: {len(df_encoded)}\")\n",
        "    print(\"Class distribution after oversampling:\")\n",
        "    print(df_encoded[\"type\"].value_counts())\n",
        "\n",
        "    # get embeddings from bert\n",
        "    encoded_seqs = [encode_sequence(seq) for seq in sequences]\n",
        "    encoded_labels = [np.array(lbl) for lbl in labels]\n",
        "\n",
        "    max_len = max(len(seq) for seq in encoded_seqs)\n",
        "    hidden_dim = encoded_seqs[0].shape[1]\n",
        "\n",
        "    X = np.stack([pad_array(seq, max_len) for seq in encoded_seqs])\n",
        "    Y = np.stack([pad_array(lbl, max_len) for lbl in encoded_labels])\n",
        "\n",
        "    X = jnp.array(X)\n",
        "    Y = jnp.array(Y)\n",
        "\n",
        "    from sklearn.model_selection import train_test_split\n",
        "    train_seqs, test_seqs, train_types, test_types = train_test_split(\n",
        "        X, Y, test_size=0.2, random_state=42\n",
        "    )\n",
        "\n",
        "    print(f\"Training set size: {len(train_seqs)}\")\n",
        "    print(f\"Test set size: {len(test_seqs)}\")\n",
        "\n",
        "    return train_seqs, test_seqs, train_types, test_types\n",
        "\n",
        "# Usage:\n",
        "train_seqs, test_seqs, train_types, test_types = load_and_prep_data(FASTA_PATH)"
      ]
    },
    {
      "cell_type": "code",
      "execution_count": null,
      "id": "d09bc265",
      "metadata": {
        "id": "d09bc265"
      },
      "outputs": [],
      "source": [
        "class PerResidueClassifier(nn.Module):\n",
        "    hidden_size: int = 256\n",
        "\n",
        "    @nn.compact\n",
        "    def __call__(self, x):\n",
        "        x = nn.Dense(self.hidden_size)(x)\n",
        "        x = nn.relu(x)\n",
        "        x = nn.Dense(1)(x)\n",
        "        x = x.squeeze(-1)  # shape: [batch, seq_len]\n",
        "        return x\n",
        "\n"
      ]
    },
    {
      "cell_type": "code",
      "execution_count": null,
      "id": "ce03709d",
      "metadata": {
        "id": "ce03709d"
      },
      "outputs": [],
      "source": [
        "# STEP 5: Training loop\n",
        "model = PerResidueClassifier()\n",
        "rng = jax.random.PRNGKey(0)\n",
        "params = model.init(rng, X)\n",
        "optimizer = optax.adam(1e-3)\n",
        "opt_state = optimizer.init(params)\n",
        "\n",
        "@jax.jit\n",
        "def loss_fn(params, X, Y):\n",
        "    logits = model.apply(params, X)\n",
        "    loss = optax.sigmoid_binary_cross_entropy(logits, Y).mean()\n",
        "    return loss\n",
        "\n",
        "@jax.jit\n",
        "def update(params, opt_state, X, Y):\n",
        "    loss, grads = jax.value_and_grad(loss_fn)(params, X, Y)\n",
        "    updates, opt_state = optimizer.update(grads, opt_state)\n",
        "    new_params = optax.apply_updates(params, updates)\n",
        "    return new_params, opt_state, loss"
      ]
    },
    {
      "cell_type": "code",
      "execution_count": null,
      "id": "fc2dae76",
      "metadata": {
        "id": "fc2dae76"
      },
      "outputs": [],
      "source": [
        "# STEP 6: Train\n",
        "for epoch in range(10):\n",
        "    params, opt_state, loss = update(params, opt_state, X, Y)\n",
        "    print(f\"Epoch {epoch+1}, Loss: {loss:.4f}\")\n",
        "\n",
        "# STEP 7: Predict\n",
        "logits = model.apply(params, X)\n",
        "preds = (jax.nn.sigmoid(logits) > 0.5).astype(int)\n",
        "\n",
        "print(\"Predictions for first sequence:\")\n",
        "print(preds[0])\n"
      ]
    }
  ],
  "metadata": {
    "colab": {
      "provenance": [],
      "gpuType": "T4"
    },
    "kernelspec": {
      "display_name": "Python 3",
      "name": "python3"
    },
    "language_info": {
      "name": "python",
      "version": "3.12.4"
    },
    "accelerator": "GPU"
  },
  "nbformat": 4,
  "nbformat_minor": 5
}